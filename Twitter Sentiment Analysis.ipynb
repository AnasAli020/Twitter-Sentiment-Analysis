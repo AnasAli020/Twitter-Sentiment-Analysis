{
  "cells": [
    {
      "cell_type": "markdown",
      "metadata": {
        "id": "fM4L5L6M-at0"
      },
      "source": [
        "# Tahaluf Training | Competition (4) - Twitter Sentiment Analysis\n",
        "\n",
        "***"
      ]
    },
    {
      "cell_type": "markdown",
      "metadata": {
        "id": "P5GI70wI-at2"
      },
      "source": [
        "***\n",
        "# 1- Get the Data\n",
        "***"
      ]
    },
    {
      "cell_type": "code",
      "execution_count": null,
      "metadata": {
        "colab": {
          "base_uri": "https://localhost:8080/"
        },
        "id": "XiLg1-mc-at2",
        "outputId": "ac0372da-accf-4a1b-8247-20d31dc95f27"
      },
      "outputs": [
        {
          "output_type": "stream",
          "name": "stdout",
          "text": [
            "Drive already mounted at /content/drive; to attempt to forcibly remount, call drive.mount(\"/content/drive\", force_remount=True).\n"
          ]
        }
      ],
      "source": [
        "import numpy as np\n",
        "import pandas as pd\n",
        "import seaborn as sns\n",
        "import matplotlib.pyplot as plt\n",
        "from google.colab import drive\n",
        "from sklearn.feature_extraction.text import TfidfVectorizer\n",
        "from sklearn.model_selection import train_test_split\n",
        "from sklearn.metrics import f1_score,classification_report\n",
        "from sklearn.cluster import KMeans\n",
        "from nltk.cluster import KMeansClusterer\n",
        "from sklearn.cluster import DBSCAN\n",
        "\n",
        "drive.mount(\"/content/drive\")"
      ]
    },
    {
      "cell_type": "code",
      "execution_count": null,
      "metadata": {
        "colab": {
          "base_uri": "https://localhost:8080/"
        },
        "id": "12mluSwqEII2",
        "outputId": "7265a121-c46a-4bb4-981b-9b86230c6715"
      },
      "outputs": [
        {
          "output_type": "execute_result",
          "data": {
            "text/plain": [
              "0    @JennaMadison awww, thanks . I like you too, a...\n",
              "1    &quot;The man&quot; is gone for a week. Pouting! \n",
              "2    stupid itunes keeps crashing so i can't update...\n",
              "3                           is ready for the weekend! \n",
              "4    @schofe must be great getting all the freebies...\n",
              "Name: text, dtype: object"
            ]
          },
          "metadata": {},
          "execution_count": 38
        }
      ],
      "source": [
        "data= pd.read_csv(\"/content/drive/MyDrive/train1.csv\")\n",
        "data.text.head()"
      ]
    },
    {
      "cell_type": "code",
      "execution_count": null,
      "metadata": {
        "colab": {
          "base_uri": "https://localhost:8080/"
        },
        "id": "YmzBGLxIHake",
        "outputId": "2d4b7196-83b9-4ec7-b385-02b3aa871104"
      },
      "outputs": [
        {
          "output_type": "execute_result",
          "data": {
            "text/plain": [
              "(1023999, 6)"
            ]
          },
          "metadata": {},
          "execution_count": 39
        }
      ],
      "source": [
        "data.shape"
      ]
    },
    {
      "cell_type": "code",
      "execution_count": null,
      "metadata": {
        "colab": {
          "base_uri": "https://localhost:8080/",
          "height": 206
        },
        "id": "OJrVHLucE3aa",
        "outputId": "477f2682-b88b-4e56-8f19-bc545e0a2d95"
      },
      "outputs": [
        {
          "output_type": "execute_result",
          "data": {
            "text/plain": [
              "                           date      flag             user  \\\n",
              "0  Sat May 30 18:30:14 PDT 2009  NO_QUERY  susanhutchinson   \n",
              "1  Sun Jun 21 06:43:36 PDT 2009  NO_QUERY         jodgozum   \n",
              "2  Tue Jun 02 04:49:35 PDT 2009  NO_QUERY     deegarcia104   \n",
              "3  Sat Jun 06 14:01:26 PDT 2009  NO_QUERY          voxdolo   \n",
              "4  Sun May 31 09:21:09 PDT 2009  NO_QUERY      ilove_shoes   \n",
              "\n",
              "                                                text       id  \n",
              "0  @smilingtime Love the profile pic.  I have a p...  1136227  \n",
              "1             i'm doing a letter to the department.    738556  \n",
              "2  @jaycantu merry christmas, pappy. now you look...  1289784  \n",
              "3  Much love to all my rocketeers from @cadiebug ...  1419520  \n",
              "4  i still hate the two people i was on skype wit...  1178091  "
            ],
            "text/html": [
              "\n",
              "  <div id=\"df-5e9e2c9c-6195-4f5b-861a-9d2334d51202\">\n",
              "    <div class=\"colab-df-container\">\n",
              "      <div>\n",
              "<style scoped>\n",
              "    .dataframe tbody tr th:only-of-type {\n",
              "        vertical-align: middle;\n",
              "    }\n",
              "\n",
              "    .dataframe tbody tr th {\n",
              "        vertical-align: top;\n",
              "    }\n",
              "\n",
              "    .dataframe thead th {\n",
              "        text-align: right;\n",
              "    }\n",
              "</style>\n",
              "<table border=\"1\" class=\"dataframe\">\n",
              "  <thead>\n",
              "    <tr style=\"text-align: right;\">\n",
              "      <th></th>\n",
              "      <th>date</th>\n",
              "      <th>flag</th>\n",
              "      <th>user</th>\n",
              "      <th>text</th>\n",
              "      <th>id</th>\n",
              "    </tr>\n",
              "  </thead>\n",
              "  <tbody>\n",
              "    <tr>\n",
              "      <th>0</th>\n",
              "      <td>Sat May 30 18:30:14 PDT 2009</td>\n",
              "      <td>NO_QUERY</td>\n",
              "      <td>susanhutchinson</td>\n",
              "      <td>@smilingtime Love the profile pic.  I have a p...</td>\n",
              "      <td>1136227</td>\n",
              "    </tr>\n",
              "    <tr>\n",
              "      <th>1</th>\n",
              "      <td>Sun Jun 21 06:43:36 PDT 2009</td>\n",
              "      <td>NO_QUERY</td>\n",
              "      <td>jodgozum</td>\n",
              "      <td>i'm doing a letter to the department.</td>\n",
              "      <td>738556</td>\n",
              "    </tr>\n",
              "    <tr>\n",
              "      <th>2</th>\n",
              "      <td>Tue Jun 02 04:49:35 PDT 2009</td>\n",
              "      <td>NO_QUERY</td>\n",
              "      <td>deegarcia104</td>\n",
              "      <td>@jaycantu merry christmas, pappy. now you look...</td>\n",
              "      <td>1289784</td>\n",
              "    </tr>\n",
              "    <tr>\n",
              "      <th>3</th>\n",
              "      <td>Sat Jun 06 14:01:26 PDT 2009</td>\n",
              "      <td>NO_QUERY</td>\n",
              "      <td>voxdolo</td>\n",
              "      <td>Much love to all my rocketeers from @cadiebug ...</td>\n",
              "      <td>1419520</td>\n",
              "    </tr>\n",
              "    <tr>\n",
              "      <th>4</th>\n",
              "      <td>Sun May 31 09:21:09 PDT 2009</td>\n",
              "      <td>NO_QUERY</td>\n",
              "      <td>ilove_shoes</td>\n",
              "      <td>i still hate the two people i was on skype wit...</td>\n",
              "      <td>1178091</td>\n",
              "    </tr>\n",
              "  </tbody>\n",
              "</table>\n",
              "</div>\n",
              "      <button class=\"colab-df-convert\" onclick=\"convertToInteractive('df-5e9e2c9c-6195-4f5b-861a-9d2334d51202')\"\n",
              "              title=\"Convert this dataframe to an interactive table.\"\n",
              "              style=\"display:none;\">\n",
              "        \n",
              "  <svg xmlns=\"http://www.w3.org/2000/svg\" height=\"24px\"viewBox=\"0 0 24 24\"\n",
              "       width=\"24px\">\n",
              "    <path d=\"M0 0h24v24H0V0z\" fill=\"none\"/>\n",
              "    <path d=\"M18.56 5.44l.94 2.06.94-2.06 2.06-.94-2.06-.94-.94-2.06-.94 2.06-2.06.94zm-11 1L8.5 8.5l.94-2.06 2.06-.94-2.06-.94L8.5 2.5l-.94 2.06-2.06.94zm10 10l.94 2.06.94-2.06 2.06-.94-2.06-.94-.94-2.06-.94 2.06-2.06.94z\"/><path d=\"M17.41 7.96l-1.37-1.37c-.4-.4-.92-.59-1.43-.59-.52 0-1.04.2-1.43.59L10.3 9.45l-7.72 7.72c-.78.78-.78 2.05 0 2.83L4 21.41c.39.39.9.59 1.41.59.51 0 1.02-.2 1.41-.59l7.78-7.78 2.81-2.81c.8-.78.8-2.07 0-2.86zM5.41 20L4 18.59l7.72-7.72 1.47 1.35L5.41 20z\"/>\n",
              "  </svg>\n",
              "      </button>\n",
              "      \n",
              "  <style>\n",
              "    .colab-df-container {\n",
              "      display:flex;\n",
              "      flex-wrap:wrap;\n",
              "      gap: 12px;\n",
              "    }\n",
              "\n",
              "    .colab-df-convert {\n",
              "      background-color: #E8F0FE;\n",
              "      border: none;\n",
              "      border-radius: 50%;\n",
              "      cursor: pointer;\n",
              "      display: none;\n",
              "      fill: #1967D2;\n",
              "      height: 32px;\n",
              "      padding: 0 0 0 0;\n",
              "      width: 32px;\n",
              "    }\n",
              "\n",
              "    .colab-df-convert:hover {\n",
              "      background-color: #E2EBFA;\n",
              "      box-shadow: 0px 1px 2px rgba(60, 64, 67, 0.3), 0px 1px 3px 1px rgba(60, 64, 67, 0.15);\n",
              "      fill: #174EA6;\n",
              "    }\n",
              "\n",
              "    [theme=dark] .colab-df-convert {\n",
              "      background-color: #3B4455;\n",
              "      fill: #D2E3FC;\n",
              "    }\n",
              "\n",
              "    [theme=dark] .colab-df-convert:hover {\n",
              "      background-color: #434B5C;\n",
              "      box-shadow: 0px 1px 3px 1px rgba(0, 0, 0, 0.15);\n",
              "      filter: drop-shadow(0px 1px 2px rgba(0, 0, 0, 0.3));\n",
              "      fill: #FFFFFF;\n",
              "    }\n",
              "  </style>\n",
              "\n",
              "      <script>\n",
              "        const buttonEl =\n",
              "          document.querySelector('#df-5e9e2c9c-6195-4f5b-861a-9d2334d51202 button.colab-df-convert');\n",
              "        buttonEl.style.display =\n",
              "          google.colab.kernel.accessAllowed ? 'block' : 'none';\n",
              "\n",
              "        async function convertToInteractive(key) {\n",
              "          const element = document.querySelector('#df-5e9e2c9c-6195-4f5b-861a-9d2334d51202');\n",
              "          const dataTable =\n",
              "            await google.colab.kernel.invokeFunction('convertToInteractive',\n",
              "                                                     [key], {});\n",
              "          if (!dataTable) return;\n",
              "\n",
              "          const docLinkHtml = 'Like what you see? Visit the ' +\n",
              "            '<a target=\"_blank\" href=https://colab.research.google.com/notebooks/data_table.ipynb>data table notebook</a>'\n",
              "            + ' to learn more about interactive tables.';\n",
              "          element.innerHTML = '';\n",
              "          dataTable['output_type'] = 'display_data';\n",
              "          await google.colab.output.renderOutput(dataTable, element);\n",
              "          const docLink = document.createElement('div');\n",
              "          docLink.innerHTML = docLinkHtml;\n",
              "          element.appendChild(docLink);\n",
              "        }\n",
              "      </script>\n",
              "    </div>\n",
              "  </div>\n",
              "  "
            ]
          },
          "metadata": {},
          "execution_count": 40
        }
      ],
      "source": [
        "test= pd.read_csv(\"/content/drive/MyDrive/test1.csv\")\n",
        "ID_test=test[\"id\"]\n",
        "test.head()"
      ]
    },
    {
      "cell_type": "code",
      "execution_count": null,
      "metadata": {
        "colab": {
          "base_uri": "https://localhost:8080/"
        },
        "id": "rUmqvcaaH9b4",
        "outputId": "2dda2dcd-5456-4887-e49f-3c46a2cfc100"
      },
      "outputs": [
        {
          "output_type": "execute_result",
          "data": {
            "text/plain": [
              "(256000, 5)"
            ]
          },
          "metadata": {},
          "execution_count": 41
        }
      ],
      "source": [
        "test.shape"
      ]
    },
    {
      "cell_type": "markdown",
      "metadata": {
        "id": "RiR24IgvImk3"
      },
      "source": [
        "#### Dispaly code ."
      ]
    },
    {
      "cell_type": "code",
      "execution_count": null,
      "metadata": {
        "colab": {
          "base_uri": "https://localhost:8080/"
        },
        "id": "Vq4nzAUEImk5",
        "outputId": "99f9575f-78cb-4e84-8a48-52b05b191ee2"
      },
      "outputs": [
        {
          "output_type": "execute_result",
          "data": {
            "text/plain": [
              "                 id        target\n",
              "count  1.023999e+06  1.023999e+06\n",
              "mean   7.999957e+05  5.001362e-01\n",
              "std    4.621032e+05  5.000002e-01\n",
              "min    4.000000e+00  0.000000e+00\n",
              "25%    3.998395e+05  0.000000e+00\n",
              "50%    8.002190e+05  1.000000e+00\n",
              "75%    1.200262e+06  1.000000e+00\n",
              "max    1.599999e+06  1.000000e+00"
            ],
            "text/html": [
              "\n",
              "  <div id=\"df-bdbf44f3-f508-4ef6-b0d7-4310410a8265\">\n",
              "    <div class=\"colab-df-container\">\n",
              "      <div>\n",
              "<style scoped>\n",
              "    .dataframe tbody tr th:only-of-type {\n",
              "        vertical-align: middle;\n",
              "    }\n",
              "\n",
              "    .dataframe tbody tr th {\n",
              "        vertical-align: top;\n",
              "    }\n",
              "\n",
              "    .dataframe thead th {\n",
              "        text-align: right;\n",
              "    }\n",
              "</style>\n",
              "<table border=\"1\" class=\"dataframe\">\n",
              "  <thead>\n",
              "    <tr style=\"text-align: right;\">\n",
              "      <th></th>\n",
              "      <th>id</th>\n",
              "      <th>target</th>\n",
              "    </tr>\n",
              "  </thead>\n",
              "  <tbody>\n",
              "    <tr>\n",
              "      <th>count</th>\n",
              "      <td>1.023999e+06</td>\n",
              "      <td>1.023999e+06</td>\n",
              "    </tr>\n",
              "    <tr>\n",
              "      <th>mean</th>\n",
              "      <td>7.999957e+05</td>\n",
              "      <td>5.001362e-01</td>\n",
              "    </tr>\n",
              "    <tr>\n",
              "      <th>std</th>\n",
              "      <td>4.621032e+05</td>\n",
              "      <td>5.000002e-01</td>\n",
              "    </tr>\n",
              "    <tr>\n",
              "      <th>min</th>\n",
              "      <td>4.000000e+00</td>\n",
              "      <td>0.000000e+00</td>\n",
              "    </tr>\n",
              "    <tr>\n",
              "      <th>25%</th>\n",
              "      <td>3.998395e+05</td>\n",
              "      <td>0.000000e+00</td>\n",
              "    </tr>\n",
              "    <tr>\n",
              "      <th>50%</th>\n",
              "      <td>8.002190e+05</td>\n",
              "      <td>1.000000e+00</td>\n",
              "    </tr>\n",
              "    <tr>\n",
              "      <th>75%</th>\n",
              "      <td>1.200262e+06</td>\n",
              "      <td>1.000000e+00</td>\n",
              "    </tr>\n",
              "    <tr>\n",
              "      <th>max</th>\n",
              "      <td>1.599999e+06</td>\n",
              "      <td>1.000000e+00</td>\n",
              "    </tr>\n",
              "  </tbody>\n",
              "</table>\n",
              "</div>\n",
              "      <button class=\"colab-df-convert\" onclick=\"convertToInteractive('df-bdbf44f3-f508-4ef6-b0d7-4310410a8265')\"\n",
              "              title=\"Convert this dataframe to an interactive table.\"\n",
              "              style=\"display:none;\">\n",
              "        \n",
              "  <svg xmlns=\"http://www.w3.org/2000/svg\" height=\"24px\"viewBox=\"0 0 24 24\"\n",
              "       width=\"24px\">\n",
              "    <path d=\"M0 0h24v24H0V0z\" fill=\"none\"/>\n",
              "    <path d=\"M18.56 5.44l.94 2.06.94-2.06 2.06-.94-2.06-.94-.94-2.06-.94 2.06-2.06.94zm-11 1L8.5 8.5l.94-2.06 2.06-.94-2.06-.94L8.5 2.5l-.94 2.06-2.06.94zm10 10l.94 2.06.94-2.06 2.06-.94-2.06-.94-.94-2.06-.94 2.06-2.06.94z\"/><path d=\"M17.41 7.96l-1.37-1.37c-.4-.4-.92-.59-1.43-.59-.52 0-1.04.2-1.43.59L10.3 9.45l-7.72 7.72c-.78.78-.78 2.05 0 2.83L4 21.41c.39.39.9.59 1.41.59.51 0 1.02-.2 1.41-.59l7.78-7.78 2.81-2.81c.8-.78.8-2.07 0-2.86zM5.41 20L4 18.59l7.72-7.72 1.47 1.35L5.41 20z\"/>\n",
              "  </svg>\n",
              "      </button>\n",
              "      \n",
              "  <style>\n",
              "    .colab-df-container {\n",
              "      display:flex;\n",
              "      flex-wrap:wrap;\n",
              "      gap: 12px;\n",
              "    }\n",
              "\n",
              "    .colab-df-convert {\n",
              "      background-color: #E8F0FE;\n",
              "      border: none;\n",
              "      border-radius: 50%;\n",
              "      cursor: pointer;\n",
              "      display: none;\n",
              "      fill: #1967D2;\n",
              "      height: 32px;\n",
              "      padding: 0 0 0 0;\n",
              "      width: 32px;\n",
              "    }\n",
              "\n",
              "    .colab-df-convert:hover {\n",
              "      background-color: #E2EBFA;\n",
              "      box-shadow: 0px 1px 2px rgba(60, 64, 67, 0.3), 0px 1px 3px 1px rgba(60, 64, 67, 0.15);\n",
              "      fill: #174EA6;\n",
              "    }\n",
              "\n",
              "    [theme=dark] .colab-df-convert {\n",
              "      background-color: #3B4455;\n",
              "      fill: #D2E3FC;\n",
              "    }\n",
              "\n",
              "    [theme=dark] .colab-df-convert:hover {\n",
              "      background-color: #434B5C;\n",
              "      box-shadow: 0px 1px 3px 1px rgba(0, 0, 0, 0.15);\n",
              "      filter: drop-shadow(0px 1px 2px rgba(0, 0, 0, 0.3));\n",
              "      fill: #FFFFFF;\n",
              "    }\n",
              "  </style>\n",
              "\n",
              "      <script>\n",
              "        const buttonEl =\n",
              "          document.querySelector('#df-bdbf44f3-f508-4ef6-b0d7-4310410a8265 button.colab-df-convert');\n",
              "        buttonEl.style.display =\n",
              "          google.colab.kernel.accessAllowed ? 'block' : 'none';\n",
              "\n",
              "        async function convertToInteractive(key) {\n",
              "          const element = document.querySelector('#df-bdbf44f3-f508-4ef6-b0d7-4310410a8265');\n",
              "          const dataTable =\n",
              "            await google.colab.kernel.invokeFunction('convertToInteractive',\n",
              "                                                     [key], {});\n",
              "          if (!dataTable) return;\n",
              "\n",
              "          const docLinkHtml = 'Like what you see? Visit the ' +\n",
              "            '<a target=\"_blank\" href=https://colab.research.google.com/notebooks/data_table.ipynb>data table notebook</a>'\n",
              "            + ' to learn more about interactive tables.';\n",
              "          element.innerHTML = '';\n",
              "          dataTable['output_type'] = 'display_data';\n",
              "          await google.colab.output.renderOutput(dataTable, element);\n",
              "          const docLink = document.createElement('div');\n",
              "          docLink.innerHTML = docLinkHtml;\n",
              "          element.appendChild(docLink);\n",
              "        }\n",
              "      </script>\n",
              "    </div>\n",
              "  </div>\n",
              "  "
            ]
          },
          "metadata": {},
          "execution_count": 42
        }
      ],
      "source": [
        "pd.set_option('display.max_columns', None)\n",
        "data.describe()"
      ]
    },
    {
      "cell_type": "markdown",
      "metadata": {
        "id": "QIUlS4D6-at6"
      },
      "source": [
        "***\n",
        "# 2- Discover  The Data\n",
        "***"
      ]
    },
    {
      "cell_type": "markdown",
      "metadata": {
        "id": "GHjgSHp-8EhM"
      },
      "source": [
        "### **Train data**"
      ]
    },
    {
      "cell_type": "code",
      "execution_count": null,
      "metadata": {
        "colab": {
          "base_uri": "https://localhost:8080/",
          "height": 206
        },
        "id": "FP-2dJId4Ol1",
        "outputId": "7d3c0566-8b1b-4f34-d9da-daaca647737f"
      },
      "outputs": [
        {
          "output_type": "execute_result",
          "data": {
            "text/plain": [
              "                           date      flag            user  \\\n",
              "0  Wed Jun 03 03:47:24 PDT 2009  NO_QUERY   mayhemstudios   \n",
              "1  Mon Jun 01 05:54:18 PDT 2009  NO_QUERY       ruralmama   \n",
              "2  Wed Jun 17 17:34:38 PDT 2009  NO_QUERY  princesslaylah   \n",
              "3  Fri May 29 11:43:58 PDT 2009  NO_QUERY     candace_lea   \n",
              "4  Mon Jun 15 12:45:11 PDT 2009  NO_QUERY     joluvs2shop   \n",
              "\n",
              "                                                text       id  target  \n",
              "0  @JennaMadison awww, thanks . I like you too, a...  1325379       1  \n",
              "1  &quot;The man&quot; is gone for a week. Pouting!    275675       0  \n",
              "2  stupid itunes keeps crashing so i can't update...   583702       0  \n",
              "3                         is ready for the weekend!   1058019       1  \n",
              "4  @schofe must be great getting all the freebies...  1545430       1  "
            ],
            "text/html": [
              "\n",
              "  <div id=\"df-f7a44745-2bcf-4f54-b5bd-c65d5dce1f68\">\n",
              "    <div class=\"colab-df-container\">\n",
              "      <div>\n",
              "<style scoped>\n",
              "    .dataframe tbody tr th:only-of-type {\n",
              "        vertical-align: middle;\n",
              "    }\n",
              "\n",
              "    .dataframe tbody tr th {\n",
              "        vertical-align: top;\n",
              "    }\n",
              "\n",
              "    .dataframe thead th {\n",
              "        text-align: right;\n",
              "    }\n",
              "</style>\n",
              "<table border=\"1\" class=\"dataframe\">\n",
              "  <thead>\n",
              "    <tr style=\"text-align: right;\">\n",
              "      <th></th>\n",
              "      <th>date</th>\n",
              "      <th>flag</th>\n",
              "      <th>user</th>\n",
              "      <th>text</th>\n",
              "      <th>id</th>\n",
              "      <th>target</th>\n",
              "    </tr>\n",
              "  </thead>\n",
              "  <tbody>\n",
              "    <tr>\n",
              "      <th>0</th>\n",
              "      <td>Wed Jun 03 03:47:24 PDT 2009</td>\n",
              "      <td>NO_QUERY</td>\n",
              "      <td>mayhemstudios</td>\n",
              "      <td>@JennaMadison awww, thanks . I like you too, a...</td>\n",
              "      <td>1325379</td>\n",
              "      <td>1</td>\n",
              "    </tr>\n",
              "    <tr>\n",
              "      <th>1</th>\n",
              "      <td>Mon Jun 01 05:54:18 PDT 2009</td>\n",
              "      <td>NO_QUERY</td>\n",
              "      <td>ruralmama</td>\n",
              "      <td>&amp;quot;The man&amp;quot; is gone for a week. Pouting!</td>\n",
              "      <td>275675</td>\n",
              "      <td>0</td>\n",
              "    </tr>\n",
              "    <tr>\n",
              "      <th>2</th>\n",
              "      <td>Wed Jun 17 17:34:38 PDT 2009</td>\n",
              "      <td>NO_QUERY</td>\n",
              "      <td>princesslaylah</td>\n",
              "      <td>stupid itunes keeps crashing so i can't update...</td>\n",
              "      <td>583702</td>\n",
              "      <td>0</td>\n",
              "    </tr>\n",
              "    <tr>\n",
              "      <th>3</th>\n",
              "      <td>Fri May 29 11:43:58 PDT 2009</td>\n",
              "      <td>NO_QUERY</td>\n",
              "      <td>candace_lea</td>\n",
              "      <td>is ready for the weekend!</td>\n",
              "      <td>1058019</td>\n",
              "      <td>1</td>\n",
              "    </tr>\n",
              "    <tr>\n",
              "      <th>4</th>\n",
              "      <td>Mon Jun 15 12:45:11 PDT 2009</td>\n",
              "      <td>NO_QUERY</td>\n",
              "      <td>joluvs2shop</td>\n",
              "      <td>@schofe must be great getting all the freebies...</td>\n",
              "      <td>1545430</td>\n",
              "      <td>1</td>\n",
              "    </tr>\n",
              "  </tbody>\n",
              "</table>\n",
              "</div>\n",
              "      <button class=\"colab-df-convert\" onclick=\"convertToInteractive('df-f7a44745-2bcf-4f54-b5bd-c65d5dce1f68')\"\n",
              "              title=\"Convert this dataframe to an interactive table.\"\n",
              "              style=\"display:none;\">\n",
              "        \n",
              "  <svg xmlns=\"http://www.w3.org/2000/svg\" height=\"24px\"viewBox=\"0 0 24 24\"\n",
              "       width=\"24px\">\n",
              "    <path d=\"M0 0h24v24H0V0z\" fill=\"none\"/>\n",
              "    <path d=\"M18.56 5.44l.94 2.06.94-2.06 2.06-.94-2.06-.94-.94-2.06-.94 2.06-2.06.94zm-11 1L8.5 8.5l.94-2.06 2.06-.94-2.06-.94L8.5 2.5l-.94 2.06-2.06.94zm10 10l.94 2.06.94-2.06 2.06-.94-2.06-.94-.94-2.06-.94 2.06-2.06.94z\"/><path d=\"M17.41 7.96l-1.37-1.37c-.4-.4-.92-.59-1.43-.59-.52 0-1.04.2-1.43.59L10.3 9.45l-7.72 7.72c-.78.78-.78 2.05 0 2.83L4 21.41c.39.39.9.59 1.41.59.51 0 1.02-.2 1.41-.59l7.78-7.78 2.81-2.81c.8-.78.8-2.07 0-2.86zM5.41 20L4 18.59l7.72-7.72 1.47 1.35L5.41 20z\"/>\n",
              "  </svg>\n",
              "      </button>\n",
              "      \n",
              "  <style>\n",
              "    .colab-df-container {\n",
              "      display:flex;\n",
              "      flex-wrap:wrap;\n",
              "      gap: 12px;\n",
              "    }\n",
              "\n",
              "    .colab-df-convert {\n",
              "      background-color: #E8F0FE;\n",
              "      border: none;\n",
              "      border-radius: 50%;\n",
              "      cursor: pointer;\n",
              "      display: none;\n",
              "      fill: #1967D2;\n",
              "      height: 32px;\n",
              "      padding: 0 0 0 0;\n",
              "      width: 32px;\n",
              "    }\n",
              "\n",
              "    .colab-df-convert:hover {\n",
              "      background-color: #E2EBFA;\n",
              "      box-shadow: 0px 1px 2px rgba(60, 64, 67, 0.3), 0px 1px 3px 1px rgba(60, 64, 67, 0.15);\n",
              "      fill: #174EA6;\n",
              "    }\n",
              "\n",
              "    [theme=dark] .colab-df-convert {\n",
              "      background-color: #3B4455;\n",
              "      fill: #D2E3FC;\n",
              "    }\n",
              "\n",
              "    [theme=dark] .colab-df-convert:hover {\n",
              "      background-color: #434B5C;\n",
              "      box-shadow: 0px 1px 3px 1px rgba(0, 0, 0, 0.15);\n",
              "      filter: drop-shadow(0px 1px 2px rgba(0, 0, 0, 0.3));\n",
              "      fill: #FFFFFF;\n",
              "    }\n",
              "  </style>\n",
              "\n",
              "      <script>\n",
              "        const buttonEl =\n",
              "          document.querySelector('#df-f7a44745-2bcf-4f54-b5bd-c65d5dce1f68 button.colab-df-convert');\n",
              "        buttonEl.style.display =\n",
              "          google.colab.kernel.accessAllowed ? 'block' : 'none';\n",
              "\n",
              "        async function convertToInteractive(key) {\n",
              "          const element = document.querySelector('#df-f7a44745-2bcf-4f54-b5bd-c65d5dce1f68');\n",
              "          const dataTable =\n",
              "            await google.colab.kernel.invokeFunction('convertToInteractive',\n",
              "                                                     [key], {});\n",
              "          if (!dataTable) return;\n",
              "\n",
              "          const docLinkHtml = 'Like what you see? Visit the ' +\n",
              "            '<a target=\"_blank\" href=https://colab.research.google.com/notebooks/data_table.ipynb>data table notebook</a>'\n",
              "            + ' to learn more about interactive tables.';\n",
              "          element.innerHTML = '';\n",
              "          dataTable['output_type'] = 'display_data';\n",
              "          await google.colab.output.renderOutput(dataTable, element);\n",
              "          const docLink = document.createElement('div');\n",
              "          docLink.innerHTML = docLinkHtml;\n",
              "          element.appendChild(docLink);\n",
              "        }\n",
              "      </script>\n",
              "    </div>\n",
              "  </div>\n",
              "  "
            ]
          },
          "metadata": {},
          "execution_count": 7
        }
      ],
      "source": [
        "data.head()"
      ]
    },
    {
      "cell_type": "code",
      "execution_count": null,
      "metadata": {
        "colab": {
          "base_uri": "https://localhost:8080/"
        },
        "id": "VAS1fsso-auD",
        "outputId": "17a4ec96-b0bb-45f4-9fe5-24c2e1c0e627"
      },
      "outputs": [
        {
          "output_type": "stream",
          "name": "stdout",
          "text": [
            "<class 'pandas.core.frame.DataFrame'>\n",
            "RangeIndex: 1023999 entries, 0 to 1023998\n",
            "Data columns (total 6 columns):\n",
            " #   Column  Non-Null Count    Dtype \n",
            "---  ------  --------------    ----- \n",
            " 0   date    1023999 non-null  object\n",
            " 1   flag    1023999 non-null  object\n",
            " 2   user    1023999 non-null  object\n",
            " 3   text    1023999 non-null  object\n",
            " 4   id      1023999 non-null  int64 \n",
            " 5   target  1023999 non-null  int64 \n",
            "dtypes: int64(2), object(4)\n",
            "memory usage: 46.9+ MB\n"
          ]
        }
      ],
      "source": [
        "data.info()"
      ]
    },
    {
      "cell_type": "code",
      "execution_count": null,
      "metadata": {
        "colab": {
          "base_uri": "https://localhost:8080/"
        },
        "id": "dximKltZcyZR",
        "outputId": "b6afa25b-f516-4120-eac4-309db92599e6"
      },
      "outputs": [
        {
          "output_type": "stream",
          "name": "stdout",
          "text": [
            "percentage of uniqueness of id column: 100.0\n"
          ]
        }
      ],
      "source": [
        "print(f'percentage of uniqueness of id column: {data.id.nunique()/len(data)*100}')\n",
        "# There is no any duplicated value"
      ]
    },
    {
      "cell_type": "code",
      "execution_count": null,
      "metadata": {
        "colab": {
          "base_uri": "https://localhost:8080/"
        },
        "id": "CbDuPa6PWpRh",
        "outputId": "c0aec06b-3bbe-4d8c-e0fa-25d40dbac2e0"
      },
      "outputs": [
        {
          "output_type": "stream",
          "name": "stdout",
          "text": [
            "percentage of uniqueness of user column: 48.50805518364764\n"
          ]
        }
      ],
      "source": [
        "print(f'percentage of uniqueness of user column: {data.user.nunique()/len(data)*100}')"
      ]
    },
    {
      "cell_type": "code",
      "execution_count": null,
      "metadata": {
        "colab": {
          "base_uri": "https://localhost:8080/"
        },
        "id": "JQL0vLiSahBa",
        "outputId": "7410c527-386e-4257-c5c5-577784970011"
      },
      "outputs": [
        {
          "output_type": "execute_result",
          "data": {
            "text/plain": [
              "lost_dog           357\n",
              "webwoke            219\n",
              "tweetpet           193\n",
              "mcraddictal        181\n",
              "SallytheShizzle    180\n",
              "                  ... \n",
              "pooohbusters         1\n",
              "247missions          1\n",
              "latrevaherndon       1\n",
              "xxohmystarz          1\n",
              "Stephhhx3            1\n",
              "Name: user, Length: 496722, dtype: int64"
            ]
          },
          "metadata": {},
          "execution_count": 11
        }
      ],
      "source": [
        "data.user.value_counts()"
      ]
    },
    {
      "cell_type": "code",
      "execution_count": null,
      "metadata": {
        "colab": {
          "base_uri": "https://localhost:8080/"
        },
        "id": "wYQQCYO3J-YO",
        "outputId": "5f09cf7f-e71b-4571-f37e-f22091ed43c8"
      },
      "outputs": [
        {
          "output_type": "execute_result",
          "data": {
            "text/plain": [
              "                                date      flag      user  \\\n",
              "count                        1023999   1023999   1023999   \n",
              "unique                        602272         1    496722   \n",
              "top     Mon Jun 15 12:53:14 PDT 2009  NO_QUERY  lost_dog   \n",
              "freq                              16   1023999       357   \n",
              "\n",
              "                             text  \n",
              "count                     1023999  \n",
              "unique                    1014262  \n",
              "top     isPlayer Has Died! Sorry   \n",
              "freq                          147  "
            ],
            "text/html": [
              "\n",
              "  <div id=\"df-bc8bcfb9-6a68-42ed-8605-e9930c54123d\">\n",
              "    <div class=\"colab-df-container\">\n",
              "      <div>\n",
              "<style scoped>\n",
              "    .dataframe tbody tr th:only-of-type {\n",
              "        vertical-align: middle;\n",
              "    }\n",
              "\n",
              "    .dataframe tbody tr th {\n",
              "        vertical-align: top;\n",
              "    }\n",
              "\n",
              "    .dataframe thead th {\n",
              "        text-align: right;\n",
              "    }\n",
              "</style>\n",
              "<table border=\"1\" class=\"dataframe\">\n",
              "  <thead>\n",
              "    <tr style=\"text-align: right;\">\n",
              "      <th></th>\n",
              "      <th>date</th>\n",
              "      <th>flag</th>\n",
              "      <th>user</th>\n",
              "      <th>text</th>\n",
              "    </tr>\n",
              "  </thead>\n",
              "  <tbody>\n",
              "    <tr>\n",
              "      <th>count</th>\n",
              "      <td>1023999</td>\n",
              "      <td>1023999</td>\n",
              "      <td>1023999</td>\n",
              "      <td>1023999</td>\n",
              "    </tr>\n",
              "    <tr>\n",
              "      <th>unique</th>\n",
              "      <td>602272</td>\n",
              "      <td>1</td>\n",
              "      <td>496722</td>\n",
              "      <td>1014262</td>\n",
              "    </tr>\n",
              "    <tr>\n",
              "      <th>top</th>\n",
              "      <td>Mon Jun 15 12:53:14 PDT 2009</td>\n",
              "      <td>NO_QUERY</td>\n",
              "      <td>lost_dog</td>\n",
              "      <td>isPlayer Has Died! Sorry</td>\n",
              "    </tr>\n",
              "    <tr>\n",
              "      <th>freq</th>\n",
              "      <td>16</td>\n",
              "      <td>1023999</td>\n",
              "      <td>357</td>\n",
              "      <td>147</td>\n",
              "    </tr>\n",
              "  </tbody>\n",
              "</table>\n",
              "</div>\n",
              "      <button class=\"colab-df-convert\" onclick=\"convertToInteractive('df-bc8bcfb9-6a68-42ed-8605-e9930c54123d')\"\n",
              "              title=\"Convert this dataframe to an interactive table.\"\n",
              "              style=\"display:none;\">\n",
              "        \n",
              "  <svg xmlns=\"http://www.w3.org/2000/svg\" height=\"24px\"viewBox=\"0 0 24 24\"\n",
              "       width=\"24px\">\n",
              "    <path d=\"M0 0h24v24H0V0z\" fill=\"none\"/>\n",
              "    <path d=\"M18.56 5.44l.94 2.06.94-2.06 2.06-.94-2.06-.94-.94-2.06-.94 2.06-2.06.94zm-11 1L8.5 8.5l.94-2.06 2.06-.94-2.06-.94L8.5 2.5l-.94 2.06-2.06.94zm10 10l.94 2.06.94-2.06 2.06-.94-2.06-.94-.94-2.06-.94 2.06-2.06.94z\"/><path d=\"M17.41 7.96l-1.37-1.37c-.4-.4-.92-.59-1.43-.59-.52 0-1.04.2-1.43.59L10.3 9.45l-7.72 7.72c-.78.78-.78 2.05 0 2.83L4 21.41c.39.39.9.59 1.41.59.51 0 1.02-.2 1.41-.59l7.78-7.78 2.81-2.81c.8-.78.8-2.07 0-2.86zM5.41 20L4 18.59l7.72-7.72 1.47 1.35L5.41 20z\"/>\n",
              "  </svg>\n",
              "      </button>\n",
              "      \n",
              "  <style>\n",
              "    .colab-df-container {\n",
              "      display:flex;\n",
              "      flex-wrap:wrap;\n",
              "      gap: 12px;\n",
              "    }\n",
              "\n",
              "    .colab-df-convert {\n",
              "      background-color: #E8F0FE;\n",
              "      border: none;\n",
              "      border-radius: 50%;\n",
              "      cursor: pointer;\n",
              "      display: none;\n",
              "      fill: #1967D2;\n",
              "      height: 32px;\n",
              "      padding: 0 0 0 0;\n",
              "      width: 32px;\n",
              "    }\n",
              "\n",
              "    .colab-df-convert:hover {\n",
              "      background-color: #E2EBFA;\n",
              "      box-shadow: 0px 1px 2px rgba(60, 64, 67, 0.3), 0px 1px 3px 1px rgba(60, 64, 67, 0.15);\n",
              "      fill: #174EA6;\n",
              "    }\n",
              "\n",
              "    [theme=dark] .colab-df-convert {\n",
              "      background-color: #3B4455;\n",
              "      fill: #D2E3FC;\n",
              "    }\n",
              "\n",
              "    [theme=dark] .colab-df-convert:hover {\n",
              "      background-color: #434B5C;\n",
              "      box-shadow: 0px 1px 3px 1px rgba(0, 0, 0, 0.15);\n",
              "      filter: drop-shadow(0px 1px 2px rgba(0, 0, 0, 0.3));\n",
              "      fill: #FFFFFF;\n",
              "    }\n",
              "  </style>\n",
              "\n",
              "      <script>\n",
              "        const buttonEl =\n",
              "          document.querySelector('#df-bc8bcfb9-6a68-42ed-8605-e9930c54123d button.colab-df-convert');\n",
              "        buttonEl.style.display =\n",
              "          google.colab.kernel.accessAllowed ? 'block' : 'none';\n",
              "\n",
              "        async function convertToInteractive(key) {\n",
              "          const element = document.querySelector('#df-bc8bcfb9-6a68-42ed-8605-e9930c54123d');\n",
              "          const dataTable =\n",
              "            await google.colab.kernel.invokeFunction('convertToInteractive',\n",
              "                                                     [key], {});\n",
              "          if (!dataTable) return;\n",
              "\n",
              "          const docLinkHtml = 'Like what you see? Visit the ' +\n",
              "            '<a target=\"_blank\" href=https://colab.research.google.com/notebooks/data_table.ipynb>data table notebook</a>'\n",
              "            + ' to learn more about interactive tables.';\n",
              "          element.innerHTML = '';\n",
              "          dataTable['output_type'] = 'display_data';\n",
              "          await google.colab.output.renderOutput(dataTable, element);\n",
              "          const docLink = document.createElement('div');\n",
              "          docLink.innerHTML = docLinkHtml;\n",
              "          element.appendChild(docLink);\n",
              "        }\n",
              "      </script>\n",
              "    </div>\n",
              "  </div>\n",
              "  "
            ]
          },
          "metadata": {},
          "execution_count": 12
        }
      ],
      "source": [
        "data.describe(include=\"object\")\n",
        "# there is no variance in flag column\n",
        "# there are duplicated values in text & user columns"
      ]
    },
    {
      "cell_type": "code",
      "execution_count": null,
      "metadata": {
        "colab": {
          "base_uri": "https://localhost:8080/"
        },
        "id": "2ZOa16ihrgBt",
        "outputId": "0e3a972c-13f2-4383-c68d-ebf7d790b1a3"
      },
      "outputs": [
        {
          "output_type": "execute_result",
          "data": {
            "text/plain": [
              "1    512139\n",
              "0    511860\n",
              "Name: target, dtype: int64"
            ]
          },
          "metadata": {},
          "execution_count": 13
        }
      ],
      "source": [
        "data.target.value_counts()"
      ]
    },
    {
      "cell_type": "markdown",
      "metadata": {
        "id": "VDwKervo7txD"
      },
      "source": [
        "### **Test data**"
      ]
    },
    {
      "cell_type": "code",
      "execution_count": null,
      "metadata": {
        "colab": {
          "base_uri": "https://localhost:8080/"
        },
        "id": "Z1DH2gjU70m-",
        "outputId": "7e1b88b8-a7d6-4451-8e36-f3dfe049274c"
      },
      "outputs": [
        {
          "output_type": "execute_result",
          "data": {
            "text/plain": [
              "                           date      flag             user  \\\n",
              "0  Sat May 30 18:30:14 PDT 2009  NO_QUERY  susanhutchinson   \n",
              "1  Sun Jun 21 06:43:36 PDT 2009  NO_QUERY         jodgozum   \n",
              "2  Tue Jun 02 04:49:35 PDT 2009  NO_QUERY     deegarcia104   \n",
              "3  Sat Jun 06 14:01:26 PDT 2009  NO_QUERY          voxdolo   \n",
              "4  Sun May 31 09:21:09 PDT 2009  NO_QUERY      ilove_shoes   \n",
              "\n",
              "                                                text       id  \n",
              "0  @smilingtime Love the profile pic.  I have a p...  1136227  \n",
              "1             i'm doing a letter to the department.    738556  \n",
              "2  @jaycantu merry christmas, pappy. now you look...  1289784  \n",
              "3  Much love to all my rocketeers from @cadiebug ...  1419520  \n",
              "4  i still hate the two people i was on skype wit...  1178091  "
            ],
            "text/html": [
              "\n",
              "  <div id=\"df-56995a73-d970-48cd-8717-bb55ed0a2a30\">\n",
              "    <div class=\"colab-df-container\">\n",
              "      <div>\n",
              "<style scoped>\n",
              "    .dataframe tbody tr th:only-of-type {\n",
              "        vertical-align: middle;\n",
              "    }\n",
              "\n",
              "    .dataframe tbody tr th {\n",
              "        vertical-align: top;\n",
              "    }\n",
              "\n",
              "    .dataframe thead th {\n",
              "        text-align: right;\n",
              "    }\n",
              "</style>\n",
              "<table border=\"1\" class=\"dataframe\">\n",
              "  <thead>\n",
              "    <tr style=\"text-align: right;\">\n",
              "      <th></th>\n",
              "      <th>date</th>\n",
              "      <th>flag</th>\n",
              "      <th>user</th>\n",
              "      <th>text</th>\n",
              "      <th>id</th>\n",
              "    </tr>\n",
              "  </thead>\n",
              "  <tbody>\n",
              "    <tr>\n",
              "      <th>0</th>\n",
              "      <td>Sat May 30 18:30:14 PDT 2009</td>\n",
              "      <td>NO_QUERY</td>\n",
              "      <td>susanhutchinson</td>\n",
              "      <td>@smilingtime Love the profile pic.  I have a p...</td>\n",
              "      <td>1136227</td>\n",
              "    </tr>\n",
              "    <tr>\n",
              "      <th>1</th>\n",
              "      <td>Sun Jun 21 06:43:36 PDT 2009</td>\n",
              "      <td>NO_QUERY</td>\n",
              "      <td>jodgozum</td>\n",
              "      <td>i'm doing a letter to the department.</td>\n",
              "      <td>738556</td>\n",
              "    </tr>\n",
              "    <tr>\n",
              "      <th>2</th>\n",
              "      <td>Tue Jun 02 04:49:35 PDT 2009</td>\n",
              "      <td>NO_QUERY</td>\n",
              "      <td>deegarcia104</td>\n",
              "      <td>@jaycantu merry christmas, pappy. now you look...</td>\n",
              "      <td>1289784</td>\n",
              "    </tr>\n",
              "    <tr>\n",
              "      <th>3</th>\n",
              "      <td>Sat Jun 06 14:01:26 PDT 2009</td>\n",
              "      <td>NO_QUERY</td>\n",
              "      <td>voxdolo</td>\n",
              "      <td>Much love to all my rocketeers from @cadiebug ...</td>\n",
              "      <td>1419520</td>\n",
              "    </tr>\n",
              "    <tr>\n",
              "      <th>4</th>\n",
              "      <td>Sun May 31 09:21:09 PDT 2009</td>\n",
              "      <td>NO_QUERY</td>\n",
              "      <td>ilove_shoes</td>\n",
              "      <td>i still hate the two people i was on skype wit...</td>\n",
              "      <td>1178091</td>\n",
              "    </tr>\n",
              "  </tbody>\n",
              "</table>\n",
              "</div>\n",
              "      <button class=\"colab-df-convert\" onclick=\"convertToInteractive('df-56995a73-d970-48cd-8717-bb55ed0a2a30')\"\n",
              "              title=\"Convert this dataframe to an interactive table.\"\n",
              "              style=\"display:none;\">\n",
              "        \n",
              "  <svg xmlns=\"http://www.w3.org/2000/svg\" height=\"24px\"viewBox=\"0 0 24 24\"\n",
              "       width=\"24px\">\n",
              "    <path d=\"M0 0h24v24H0V0z\" fill=\"none\"/>\n",
              "    <path d=\"M18.56 5.44l.94 2.06.94-2.06 2.06-.94-2.06-.94-.94-2.06-.94 2.06-2.06.94zm-11 1L8.5 8.5l.94-2.06 2.06-.94-2.06-.94L8.5 2.5l-.94 2.06-2.06.94zm10 10l.94 2.06.94-2.06 2.06-.94-2.06-.94-.94-2.06-.94 2.06-2.06.94z\"/><path d=\"M17.41 7.96l-1.37-1.37c-.4-.4-.92-.59-1.43-.59-.52 0-1.04.2-1.43.59L10.3 9.45l-7.72 7.72c-.78.78-.78 2.05 0 2.83L4 21.41c.39.39.9.59 1.41.59.51 0 1.02-.2 1.41-.59l7.78-7.78 2.81-2.81c.8-.78.8-2.07 0-2.86zM5.41 20L4 18.59l7.72-7.72 1.47 1.35L5.41 20z\"/>\n",
              "  </svg>\n",
              "      </button>\n",
              "      \n",
              "  <style>\n",
              "    .colab-df-container {\n",
              "      display:flex;\n",
              "      flex-wrap:wrap;\n",
              "      gap: 12px;\n",
              "    }\n",
              "\n",
              "    .colab-df-convert {\n",
              "      background-color: #E8F0FE;\n",
              "      border: none;\n",
              "      border-radius: 50%;\n",
              "      cursor: pointer;\n",
              "      display: none;\n",
              "      fill: #1967D2;\n",
              "      height: 32px;\n",
              "      padding: 0 0 0 0;\n",
              "      width: 32px;\n",
              "    }\n",
              "\n",
              "    .colab-df-convert:hover {\n",
              "      background-color: #E2EBFA;\n",
              "      box-shadow: 0px 1px 2px rgba(60, 64, 67, 0.3), 0px 1px 3px 1px rgba(60, 64, 67, 0.15);\n",
              "      fill: #174EA6;\n",
              "    }\n",
              "\n",
              "    [theme=dark] .colab-df-convert {\n",
              "      background-color: #3B4455;\n",
              "      fill: #D2E3FC;\n",
              "    }\n",
              "\n",
              "    [theme=dark] .colab-df-convert:hover {\n",
              "      background-color: #434B5C;\n",
              "      box-shadow: 0px 1px 3px 1px rgba(0, 0, 0, 0.15);\n",
              "      filter: drop-shadow(0px 1px 2px rgba(0, 0, 0, 0.3));\n",
              "      fill: #FFFFFF;\n",
              "    }\n",
              "  </style>\n",
              "\n",
              "      <script>\n",
              "        const buttonEl =\n",
              "          document.querySelector('#df-56995a73-d970-48cd-8717-bb55ed0a2a30 button.colab-df-convert');\n",
              "        buttonEl.style.display =\n",
              "          google.colab.kernel.accessAllowed ? 'block' : 'none';\n",
              "\n",
              "        async function convertToInteractive(key) {\n",
              "          const element = document.querySelector('#df-56995a73-d970-48cd-8717-bb55ed0a2a30');\n",
              "          const dataTable =\n",
              "            await google.colab.kernel.invokeFunction('convertToInteractive',\n",
              "                                                     [key], {});\n",
              "          if (!dataTable) return;\n",
              "\n",
              "          const docLinkHtml = 'Like what you see? Visit the ' +\n",
              "            '<a target=\"_blank\" href=https://colab.research.google.com/notebooks/data_table.ipynb>data table notebook</a>'\n",
              "            + ' to learn more about interactive tables.';\n",
              "          element.innerHTML = '';\n",
              "          dataTable['output_type'] = 'display_data';\n",
              "          await google.colab.output.renderOutput(dataTable, element);\n",
              "          const docLink = document.createElement('div');\n",
              "          docLink.innerHTML = docLinkHtml;\n",
              "          element.appendChild(docLink);\n",
              "        }\n",
              "      </script>\n",
              "    </div>\n",
              "  </div>\n",
              "  "
            ]
          },
          "metadata": {},
          "execution_count": 14
        }
      ],
      "source": [
        "test.head()"
      ]
    },
    {
      "cell_type": "code",
      "execution_count": null,
      "metadata": {
        "colab": {
          "base_uri": "https://localhost:8080/"
        },
        "id": "ZNge2Gtt7_N6",
        "outputId": "ff75a45d-c705-4788-b45a-9edb10e8fb07"
      },
      "outputs": [
        {
          "output_type": "stream",
          "name": "stdout",
          "text": [
            "<class 'pandas.core.frame.DataFrame'>\n",
            "RangeIndex: 256000 entries, 0 to 255999\n",
            "Data columns (total 5 columns):\n",
            " #   Column  Non-Null Count   Dtype \n",
            "---  ------  --------------   ----- \n",
            " 0   date    256000 non-null  object\n",
            " 1   flag    256000 non-null  object\n",
            " 2   user    256000 non-null  object\n",
            " 3   text    256000 non-null  object\n",
            " 4   id      256000 non-null  int64 \n",
            "dtypes: int64(1), object(4)\n",
            "memory usage: 9.8+ MB\n"
          ]
        }
      ],
      "source": [
        "test.info()"
      ]
    },
    {
      "cell_type": "code",
      "execution_count": null,
      "metadata": {
        "colab": {
          "base_uri": "https://localhost:8080/"
        },
        "id": "tY-sx6RPJ3eP",
        "outputId": "202a1293-a2da-4212-acb3-26c307c7108a"
      },
      "outputs": [
        {
          "output_type": "execute_result",
          "data": {
            "text/plain": [
              "                                date      flag      user           text\n",
              "count                         256000    256000    256000         256000\n",
              "unique                        216900         1    181148         254812\n",
              "top     Fri Jun 05 10:59:34 PDT 2009  NO_QUERY  lost_dog  good morning \n",
              "freq                               8    256000        86             27"
            ],
            "text/html": [
              "\n",
              "  <div id=\"df-01883927-1221-4a5d-b5b9-558857a90013\">\n",
              "    <div class=\"colab-df-container\">\n",
              "      <div>\n",
              "<style scoped>\n",
              "    .dataframe tbody tr th:only-of-type {\n",
              "        vertical-align: middle;\n",
              "    }\n",
              "\n",
              "    .dataframe tbody tr th {\n",
              "        vertical-align: top;\n",
              "    }\n",
              "\n",
              "    .dataframe thead th {\n",
              "        text-align: right;\n",
              "    }\n",
              "</style>\n",
              "<table border=\"1\" class=\"dataframe\">\n",
              "  <thead>\n",
              "    <tr style=\"text-align: right;\">\n",
              "      <th></th>\n",
              "      <th>date</th>\n",
              "      <th>flag</th>\n",
              "      <th>user</th>\n",
              "      <th>text</th>\n",
              "    </tr>\n",
              "  </thead>\n",
              "  <tbody>\n",
              "    <tr>\n",
              "      <th>count</th>\n",
              "      <td>256000</td>\n",
              "      <td>256000</td>\n",
              "      <td>256000</td>\n",
              "      <td>256000</td>\n",
              "    </tr>\n",
              "    <tr>\n",
              "      <th>unique</th>\n",
              "      <td>216900</td>\n",
              "      <td>1</td>\n",
              "      <td>181148</td>\n",
              "      <td>254812</td>\n",
              "    </tr>\n",
              "    <tr>\n",
              "      <th>top</th>\n",
              "      <td>Fri Jun 05 10:59:34 PDT 2009</td>\n",
              "      <td>NO_QUERY</td>\n",
              "      <td>lost_dog</td>\n",
              "      <td>good morning</td>\n",
              "    </tr>\n",
              "    <tr>\n",
              "      <th>freq</th>\n",
              "      <td>8</td>\n",
              "      <td>256000</td>\n",
              "      <td>86</td>\n",
              "      <td>27</td>\n",
              "    </tr>\n",
              "  </tbody>\n",
              "</table>\n",
              "</div>\n",
              "      <button class=\"colab-df-convert\" onclick=\"convertToInteractive('df-01883927-1221-4a5d-b5b9-558857a90013')\"\n",
              "              title=\"Convert this dataframe to an interactive table.\"\n",
              "              style=\"display:none;\">\n",
              "        \n",
              "  <svg xmlns=\"http://www.w3.org/2000/svg\" height=\"24px\"viewBox=\"0 0 24 24\"\n",
              "       width=\"24px\">\n",
              "    <path d=\"M0 0h24v24H0V0z\" fill=\"none\"/>\n",
              "    <path d=\"M18.56 5.44l.94 2.06.94-2.06 2.06-.94-2.06-.94-.94-2.06-.94 2.06-2.06.94zm-11 1L8.5 8.5l.94-2.06 2.06-.94-2.06-.94L8.5 2.5l-.94 2.06-2.06.94zm10 10l.94 2.06.94-2.06 2.06-.94-2.06-.94-.94-2.06-.94 2.06-2.06.94z\"/><path d=\"M17.41 7.96l-1.37-1.37c-.4-.4-.92-.59-1.43-.59-.52 0-1.04.2-1.43.59L10.3 9.45l-7.72 7.72c-.78.78-.78 2.05 0 2.83L4 21.41c.39.39.9.59 1.41.59.51 0 1.02-.2 1.41-.59l7.78-7.78 2.81-2.81c.8-.78.8-2.07 0-2.86zM5.41 20L4 18.59l7.72-7.72 1.47 1.35L5.41 20z\"/>\n",
              "  </svg>\n",
              "      </button>\n",
              "      \n",
              "  <style>\n",
              "    .colab-df-container {\n",
              "      display:flex;\n",
              "      flex-wrap:wrap;\n",
              "      gap: 12px;\n",
              "    }\n",
              "\n",
              "    .colab-df-convert {\n",
              "      background-color: #E8F0FE;\n",
              "      border: none;\n",
              "      border-radius: 50%;\n",
              "      cursor: pointer;\n",
              "      display: none;\n",
              "      fill: #1967D2;\n",
              "      height: 32px;\n",
              "      padding: 0 0 0 0;\n",
              "      width: 32px;\n",
              "    }\n",
              "\n",
              "    .colab-df-convert:hover {\n",
              "      background-color: #E2EBFA;\n",
              "      box-shadow: 0px 1px 2px rgba(60, 64, 67, 0.3), 0px 1px 3px 1px rgba(60, 64, 67, 0.15);\n",
              "      fill: #174EA6;\n",
              "    }\n",
              "\n",
              "    [theme=dark] .colab-df-convert {\n",
              "      background-color: #3B4455;\n",
              "      fill: #D2E3FC;\n",
              "    }\n",
              "\n",
              "    [theme=dark] .colab-df-convert:hover {\n",
              "      background-color: #434B5C;\n",
              "      box-shadow: 0px 1px 3px 1px rgba(0, 0, 0, 0.15);\n",
              "      filter: drop-shadow(0px 1px 2px rgba(0, 0, 0, 0.3));\n",
              "      fill: #FFFFFF;\n",
              "    }\n",
              "  </style>\n",
              "\n",
              "      <script>\n",
              "        const buttonEl =\n",
              "          document.querySelector('#df-01883927-1221-4a5d-b5b9-558857a90013 button.colab-df-convert');\n",
              "        buttonEl.style.display =\n",
              "          google.colab.kernel.accessAllowed ? 'block' : 'none';\n",
              "\n",
              "        async function convertToInteractive(key) {\n",
              "          const element = document.querySelector('#df-01883927-1221-4a5d-b5b9-558857a90013');\n",
              "          const dataTable =\n",
              "            await google.colab.kernel.invokeFunction('convertToInteractive',\n",
              "                                                     [key], {});\n",
              "          if (!dataTable) return;\n",
              "\n",
              "          const docLinkHtml = 'Like what you see? Visit the ' +\n",
              "            '<a target=\"_blank\" href=https://colab.research.google.com/notebooks/data_table.ipynb>data table notebook</a>'\n",
              "            + ' to learn more about interactive tables.';\n",
              "          element.innerHTML = '';\n",
              "          dataTable['output_type'] = 'display_data';\n",
              "          await google.colab.output.renderOutput(dataTable, element);\n",
              "          const docLink = document.createElement('div');\n",
              "          docLink.innerHTML = docLinkHtml;\n",
              "          element.appendChild(docLink);\n",
              "        }\n",
              "      </script>\n",
              "    </div>\n",
              "  </div>\n",
              "  "
            ]
          },
          "metadata": {},
          "execution_count": 16
        }
      ],
      "source": [
        "test.describe(include=\"object\")\n",
        "# Same notes for train data"
      ]
    },
    {
      "cell_type": "code",
      "execution_count": null,
      "metadata": {
        "id": "ufgoJuygiq7f"
      },
      "outputs": [],
      "source": [
        "test_copy= pd.read_csv(\"/content/drive/MyDrive/test1.csv\")\n",
        "ID_test=test_copy[\"id\"]"
      ]
    },
    {
      "cell_type": "markdown",
      "metadata": {
        "id": "zcGTiQ-EQ5MK"
      },
      "source": [
        "***\n",
        "# 3- Prepare the data & Train model\n",
        "***"
      ]
    },
    {
      "cell_type": "markdown",
      "metadata": {
        "id": "8iCGUFYHnIhw"
      },
      "source": [
        "## A - Feature Engineering"
      ]
    },
    {
      "cell_type": "code",
      "source": [
        "# Its just a Trial to pass these features with Vectorized features but We could not enter anything else Vectorized Features ( Text )\n",
        "data[\"week_day\"]=data.date.map(lambda x: x[:3])\n",
        "data[\"month\"]=data.date.map(lambda x: x[4:7])\n",
        "data[\"month_day\"]=data.date.map(lambda x: x[8:10])\n",
        "data[\"hour\"]=data.date.map(lambda x: x[11:13])\n",
        "data[\"minute\"]=data.date.map(lambda x: x[14:16])\n",
        "data[\"second\"]=data.date.map(lambda x: x[17:19])\n",
        "\n",
        "test[\"week_day\"]=test.date.map(lambda x: x[:3])\n",
        "test[\"month\"]=test.date.map(lambda x: x[4:7])\n",
        "test[\"month_day\"]=test.date.map(lambda x: x[8:10])\n",
        "test[\"hour\"]=test.date.map(lambda x: x[11:13])\n",
        "test[\"minute\"]=test.date.map(lambda x: x[14:16])\n",
        "test[\"second\"]=test.date.map(lambda x: x[17:19])"
      ],
      "metadata": {
        "id": "QyJkXMvhfDam"
      },
      "execution_count": null,
      "outputs": []
    },
    {
      "cell_type": "code",
      "source": [
        "data[['second','hour','minute','month_day']]=data[['second','hour','minute','month_day']].astype(\"int\")\n",
        "test[['second','hour','minute','month_day']]=test[['second','hour','minute','month_day']].astype(\"int\")"
      ],
      "metadata": {
        "id": "r3Mg0SPNjWxa"
      },
      "execution_count": null,
      "outputs": []
    },
    {
      "cell_type": "code",
      "source": [
        "from sklearn.preprocessing import LabelEncoder\n",
        "le = LabelEncoder()\n",
        "data['week_day']=le.fit_transform(data['week_day'])\n",
        "test['week_day']=le.transform(test['week_day'])\n",
        "data['month']=le.fit_transform(data['month'])\n",
        "test['month']=le.transform(test['month'])"
      ],
      "metadata": {
        "id": "IovkWEJikVTw"
      },
      "execution_count": null,
      "outputs": []
    },
    {
      "cell_type": "code",
      "source": [
        "data.info()"
      ],
      "metadata": {
        "colab": {
          "base_uri": "https://localhost:8080/"
        },
        "id": "1nESsIgmfMrA",
        "outputId": "f753136d-bd00-4f4a-efe7-6a34bae18273"
      },
      "execution_count": null,
      "outputs": [
        {
          "output_type": "stream",
          "name": "stdout",
          "text": [
            "<class 'pandas.core.frame.DataFrame'>\n",
            "RangeIndex: 1023999 entries, 0 to 1023998\n",
            "Data columns (total 12 columns):\n",
            " #   Column     Non-Null Count    Dtype \n",
            "---  ------     --------------    ----- \n",
            " 0   date       1023999 non-null  object\n",
            " 1   flag       1023999 non-null  object\n",
            " 2   user       1023999 non-null  object\n",
            " 3   text       1023999 non-null  object\n",
            " 4   id         1023999 non-null  int64 \n",
            " 5   target     1023999 non-null  int64 \n",
            " 6   week_day   1023999 non-null  int64 \n",
            " 7   month      1023999 non-null  int64 \n",
            " 8   month_day  1023999 non-null  int64 \n",
            " 9   hour       1023999 non-null  int64 \n",
            " 10  minute     1023999 non-null  int64 \n",
            " 11  second     1023999 non-null  int64 \n",
            "dtypes: int64(8), object(4)\n",
            "memory usage: 93.8+ MB\n"
          ]
        }
      ]
    },
    {
      "cell_type": "code",
      "execution_count": null,
      "metadata": {
        "id": "pfVfDcbQdxrM"
      },
      "outputs": [],
      "source": [
        "data.set_index(\"id\",inplace=True)"
      ]
    },
    {
      "cell_type": "code",
      "execution_count": null,
      "metadata": {
        "id": "FbiqAmzSdtLE"
      },
      "outputs": [],
      "source": [
        "data_target = data.target\n",
        "data.drop(['date', 'flag', 'user'],axis=1,inplace=True)"
      ]
    },
    {
      "cell_type": "code",
      "execution_count": null,
      "metadata": {
        "id": "ZyNi6_-teOYa"
      },
      "outputs": [],
      "source": [
        "test.drop(['date', 'flag','user'],axis=1,inplace=True)"
      ]
    },
    {
      "cell_type": "markdown",
      "metadata": {
        "id": "eBXVwy6-Q5MN"
      },
      "source": [
        "## B- Text preprocessing"
      ]
    },
    {
      "cell_type": "code",
      "execution_count": null,
      "metadata": {
        "id": "xnHOW0dgvx5m"
      },
      "outputs": [],
      "source": [
        "import re\n",
        "import nltk\n",
        "from nltk.corpus import stopwords\n",
        "import string"
      ]
    },
    {
      "cell_type": "code",
      "execution_count": null,
      "metadata": {
        "colab": {
          "base_uri": "https://localhost:8080/",
          "height": 128
        },
        "id": "tZ6B7ic1ut4b",
        "outputId": "79a1c811-34ca-4b33-d54b-a80a67e9bc16"
      },
      "outputs": [
        {
          "output_type": "execute_result",
          "data": {
            "text/plain": [
              "'\\n    text = re.sub(\\'\\\\[.*?\\\\]\\', \\'\\', text)  # remove text in square brackets\\n    text = re.sub(\\'https?://\\\\S+|www\\\\.\\\\S+\\', \\'\\', text)  #remove links\\n    text = re.sub(\\'<.*?>+\\', \\'\\', text)\\n    text = re.sub(\\'[%s]\\' % re.escape(string.punctuation), \\'\\', text) #remove punctuation\\n    text = re.sub(\\'\\n\\', \\'\\', text)  \\n    text = re.sub(\\'\\\\w*\\\\d\\\\w*\\', \\'\\', text)  #remove words containing numbers\\n    text = re.sub(\\' bout \\', \\' about \\', text)  # replacing \\n    text = re.sub(\" they\\'re \", \\' they are \\', text)  # replacing \\n    text = re.sub(\\' wut \\', \\' what \\', text)  # replacing\\n    text = re.sub(\\' kno \\', \\' know \\', text)  # replacing\\n    text = re.sub(\\'&[a-z]+;\\', \\'\\', text) # removing HTML reference characters\\n    text = re.sub(\\'\\\\w*\\\\d\\\\w*\\', \\'\\', text)  #remove words containing numbers\\n    text = re.sub(\\'[%s]\\' % re.escape(string.punctuation), \\'\\', text) #remove punctuation\\n    text = re.sub(\\'https?:\\\\/\\\\/\\\\S+\\', \\'\\', text) # removing links\\n    text = re.sub(\\'\\\\[.*?\\\\]\\', \\'\\', text)  # remove text in square brackets\\n'"
            ],
            "application/vnd.google.colaboratory.intrinsic+json": {
              "type": "string"
            }
          },
          "metadata": {},
          "execution_count": 43
        }
      ],
      "source": [
        "data2=data.copy()\n",
        "def clean_text(text):\n",
        "    text = str(text).lower()  # Lowercase words\n",
        "    text = re.sub(r'(\\w)\\1\\1+', r'\\1', text)\n",
        "    text = re.sub('@[0-9a-z_]*', '', text)  # removing @.....\n",
        "    text = re.sub('#[0-9a-z_]*', '', text)  # removing @.....\n",
        "    text = re.sub('https?://\\S+|www\\.\\S+', '', text)  #remove links\n",
        "    text = re.sub('<.*?>+', '', text)\n",
        "    text = re.sub('\\n', '', text)\n",
        "    text = re.sub(r\"www\\.[a-z]?\\.?(com)+|[a-z]+\\.(com)\", '', text) # removing URL\n",
        "    text = re.sub('{link}', '', text) # removing links in {}\n",
        "    text = re.sub('\\[video\\]', '', text) # removing video links\n",
        "    text = re.sub(\"[^a-z\\s\\(\\-:\\)\\\\\\/\\];='#]\", '', text) # removing Non-Letter characters\n",
        "    text = re.sub(' u ', ' you ', text)  # replacing u with you\n",
        "    text = re.sub(' *!', '', text)  # removing !\n",
        "    return text\n",
        "\n",
        "\"\"\"\n",
        "    text = re.sub('\\[.*?\\]', '', text)  # remove text in square brackets\n",
        "    text = re.sub('https?://\\S+|www\\.\\S+', '', text)  #remove links\n",
        "    text = re.sub('<.*?>+', '', text)\n",
        "    text = re.sub('[%s]' % re.escape(string.punctuation), '', text) #remove punctuation\n",
        "    text = re.sub('\\n', '', text)\n",
        "    text = re.sub('\\w*\\d\\w*', '', text)  #remove words containing numbers\n",
        "    text = re.sub(' bout ', ' about ', text)  # replacing\n",
        "    text = re.sub(\" they're \", ' they are ', text)  # replacing\n",
        "    text = re.sub(' wut ', ' what ', text)  # replacing\n",
        "    text = re.sub(' kno ', ' know ', text)  # replacing\n",
        "    text = re.sub('&[a-z]+;', '', text) # removing HTML reference characters\n",
        "    text = re.sub('\\w*\\d\\w*', '', text)  #remove words containing numbers\n",
        "    text = re.sub('[%s]' % re.escape(string.punctuation), '', text) #remove punctuation\n",
        "    text = re.sub('https?:\\/\\/\\S+', '', text) # removing links\n",
        "    text = re.sub('\\[.*?\\]', '', text)  # remove text in square brackets\n",
        "\"\"\""
      ]
    },
    {
      "cell_type": "code",
      "execution_count": null,
      "metadata": {
        "colab": {
          "base_uri": "https://localhost:8080/"
        },
        "id": "A6nJfQ7OCiDQ",
        "outputId": "7154ab74-aa11-4471-ccb3-c32a4c8ed2b3"
      },
      "outputs": [
        {
          "output_type": "stream",
          "name": "stdout",
          "text": [
            "@JennaMadison awww, thanks . I like you too, always funny! \n",
            "is ready for the weekend! \n",
            "@schofe must be great getting all the freebies, any you don't want i'm always here \n",
            "@havenofbliss - that's the idea... \n",
            "I am extremely excited about what *could* happen tomorrow. I'm going to need a little help. \n",
            "miss ally bjornberg is amazing \n",
            "@keisha_buchanan and hello to you too \n",
            "chillin'  About to go to church. Then, my sister is having a graduation party thing. You're square, cause you ain't there.\n",
            "Watching the interview Zach Levi gave Collider @ subway.  Love him!\n",
            "@KarinSlegers what if I buy it and remove the foogly beanbag then? \n",
            "see u later my friend !!!! \n",
            "Hahah New York Goes To Work is the best show. She literally just asked if the pigs on the farm were suppose to be at school.  shelby \n",
            "@dlueking I'm not in Kentucky!  I am just going to the local track in CLE for the Kentucky Derby party.  I'm placing some serious bets. \n",
            "@rebecca1121 I hear that punching the next person you see in the face is comforting. \n",
            "@MarleeMatlin SO excited to find your book @ the BX here on Ramstein AB, Germany! Can't wait 2 get started! ps..am i one of the furthest? \n",
            "Just got her 3 little Norwexicans to bed!  Mommy Time  \n",
            "@twittterkingz Get 100 followers a day using www.tweeteradder.com Once you add everyone you are on the train or pay vip \n",
            "@PekYee welcome to twitter! \n",
            "Playing 1 vs 100 over Xbox Live now. Room is already full with my friends. \n",
            "@rokdeisel yeah i need a little tweetin therapy haha \n",
            "@DanielLeclair glad to hear it \n",
            "@lovinglifelady very cute saying \n",
            "@mitchelmusso i cant wait to go and buy it on tuesday \n",
            "went to the castle museum today. walked down a victorian street, read a newspaper and then ate a sugar mouse \n",
            "good bonding time at relay for life. \n",
            "loved the new 4 Canadian tourism commercials http://bit.ly/c4PFl  oooooooooooooooooooo \n",
            "@Trishinspace Yes, at this place in time I can commit to that. \n",
            "Check this power Twitter Follow tool  http://www.tweetpopular.com/weddingmoment\n",
            "glad its the weekend \n",
            "@wannadevelop What happens after the first few months, you move everything to WordPress?  You'd have to convert all the &quot;designs&quot; \n",
            "@queenkv I'll let @PowerofNo know that Nor Cal needs a hefty dose of BBQ!!!!  \n",
            "wearing my I&lt;3NY tshirt  ready for school.. in a sec ;P ttyl(: @shaunmichaelb go to bed.;P love you. xox\n",
            "oh how i love it in CA. train rides are fun \n",
            "@heartnsoul Congratulations! Go for another 13 years and more! \n",
            "@muchado1104 By the way, nice way to nerd it up in your new photo  \n",
            "@visualinventor He's a very cute boy. I love how you both look on your avatar picture \n",
            "Countdown 1 week to new #iPhone I hope! Updated iTunes this morning \n",
            "@whu cheater moi? never! lol parentals luv them sum mickey d's &amp; yes they're thankful  mom tends to cook though a guest so i flipped it\n",
            "@justyboo #Goodsex WUT U KNO BOUT DAT? \n",
            "@StarXavi I belive it \n",
            "@cherrybun is it like a marmite sort of thing you'll either love it or hate it?  \n",
            "@Paullebars Mine is amazing - still glowing from a very spiritual weekend of love &amp; friendship \n",
            "@joannie808 wow... nice! i feel green already. \n",
            "Wow, at least six new followers this morning, and what's nice is that I think most of them are actual real people. \n",
            "Lets hope that tomorrow (bank Holiday Monday) is a nice sunny day - get out in the garden to keep the lawn in TRIM  and get a great TAN?\n",
            "@derekfisher, please tell Lamar not to go off sugar until after the finals! BTDT he needs all summer to detox \n",
            "@cfsam justine and Lucas won!! WOOTS!~ \n",
            "working on sunday! .. Sr. que cercaa estass!! \n",
            "Happy Sunday everyone...looks like we have another nice day ahead of us \n",
            "love the song(s)!  &lt;3   &quot;If spring can take the snow away...can it melt away all our mistakes&quot; - Kanye West~ Coldest Winter &lt;3  &lt;3 &lt;3 \n"
          ]
        }
      ],
      "source": [
        "for x in range(0,50):\n",
        "  print(data.text[data.target==1].iloc[x])"
      ]
    },
    {
      "cell_type": "code",
      "execution_count": null,
      "metadata": {
        "id": "kgUBt_RpBlLq"
      },
      "outputs": [],
      "source": [
        "data.text=data.text.apply(lambda x: clean_text(x))"
      ]
    },
    {
      "cell_type": "code",
      "source": [
        "for x in range(0,50):\n",
        "  print(data.text[data.target==1].iloc[x])"
      ],
      "metadata": {
        "colab": {
          "base_uri": "https://localhost:8080/"
        },
        "id": "k7dcm6VwZM1S",
        "outputId": "28521b64-9527-4717-fa26-77f5a4795e06"
      },
      "execution_count": null,
      "outputs": [
        {
          "output_type": "stream",
          "name": "stdout",
          "text": [
            " aw thanks  i like you too always funny \n",
            "is ready for the weekend \n",
            " must be great getting all the freebies any you don't want i'm always here \n",
            " - that's the idea \n",
            "i am extremely excited about what could happen tomorrow i'm going to need a little help \n",
            "miss ally bjornberg is amazing \n",
            " and hello to you too \n",
            "chillin'  about to go to church then my sister is having a graduation party thing you're square cause you ain't there\n",
            "watching the interview zach levi gave collider  subway  love him\n",
            " what if i buy it and remove the foogly beanbag then \n",
            "see you later my friend  \n",
            "hahah new york goes to work is the best show she literally just asked if the pigs on the farm were suppose to be at school  shelby \n",
            " i'm not in kentucky  i am just going to the local track in cle for the kentucky derby party  i'm placing some serious bets \n",
            " i hear that punching the next person you see in the face is comforting \n",
            " so excited to find your book  the bx here on ramstein ab germany can't wait  get started psam i one of the furthest \n",
            "just got her  little norwexicans to bed  mommy time  \n",
            " get  followers a day using w once you add everyone you are on the train or pay vip \n",
            " welcome to twitter \n",
            "playing  vs  over xbox live now room is already full with my friends \n",
            " yeah i need a little tweetin therapy haha \n",
            " glad to hear it \n",
            " very cute saying \n",
            " i cant wait to go and buy it on tuesday \n",
            "went to the castle museum today walked down a victorian street read a newspaper and then ate a sugar mouse \n",
            "good bonding time at relay for life \n",
            "loved the new  canadian tourism commercials   o \n",
            " yes at this place in time i can commit to that \n",
            "check this power twitter follow tool  \n",
            "glad its the weekend \n",
            " what happens after the first few months you move everything to wordpress  you'd have to convert all the quot;designsquot; \n",
            " i'll let  know that nor cal needs a hefty dose of bbq  \n",
            "wearing my ilt;ny tshirt  ready for school in a sec ;p ttyl(:  go to bed;p love you xox\n",
            "oh how i love it in ca train rides are fun \n",
            " congratulations go for another  years and more \n",
            " by the way nice way to nerd it up in your new photo  \n",
            " he's a very cute boy i love how you both look on your avatar picture \n",
            "countdown  week to new  i hope updated itunes this morning \n",
            " cheater moi never lol parentals luv them sum mickey d's amp; yes they're thankful  mom tends to cook though a guest so i flipped it\n",
            "  wut you kno bout dat \n",
            " i belive it \n",
            " is it like a marmite sort of thing you'll either love it or hate it  \n",
            " mine is amazing - still glowing from a very spiritual weekend of love amp; friendship \n",
            " wow nice i feel green already \n",
            "wow at least six new followers this morning and what's nice is that i think most of them are actual real people \n",
            "lets hope that tomorrow (bank holiday monday) is a nice sunny day - get out in the garden to keep the lawn in trim  and get a great tan\n",
            " please tell lamar not to go off sugar until after the finals btdt he needs all summer to detox \n",
            " justine and lucas won woots \n",
            "working on sunday  sr que cercaa estass \n",
            "happy sunday everyonelooks like we have another nice day ahead of us \n",
            "love the song(s)  lt;   quot;if spring can take the snow awaycan it melt away all our mistakesquot; - kanye west coldest winter lt;  lt; lt; \n"
          ]
        }
      ]
    },
    {
      "cell_type": "markdown",
      "metadata": {
        "id": "9mkY_nl8-aue"
      },
      "source": [
        "## - Split data &  model Selection"
      ]
    },
    {
      "cell_type": "code",
      "source": [
        "x_train,x_test,y_train, y_test = train_test_split(data,data_target, test_size=0.2,stratify=data_target)\n",
        "x_train.drop(\"target\",axis=1,inplace=True)\n",
        "x_test.drop(\"target\",axis=1,inplace=True)"
      ],
      "metadata": {
        "id": "qS0uem5TsRqM"
      },
      "execution_count": null,
      "outputs": []
    },
    {
      "cell_type": "code",
      "execution_count": null,
      "metadata": {
        "id": "pYrXggnpgVcb"
      },
      "outputs": [],
      "source": [
        "tfidf_vectorizer = TfidfVectorizer(min_df=2,max_features=6000,sublinear_tf=True,binary=True)\n",
        "tfidf = tfidf_vectorizer.fit_transform(x_train.text)"
      ]
    },
    {
      "cell_type": "markdown",
      "metadata": {
        "id": "XR2BjKe3QNkA"
      },
      "source": [
        "### **Modeling**"
      ]
    },
    {
      "cell_type": "code",
      "source": [
        "tfidf.shape"
      ],
      "metadata": {
        "colab": {
          "base_uri": "https://localhost:8080/"
        },
        "id": "N5BtFfJQfpO7",
        "outputId": "a1586837-e0f5-4383-d6c4-c61f0ca0676c"
      },
      "execution_count": null,
      "outputs": [
        {
          "output_type": "execute_result",
          "data": {
            "text/plain": [
              "(819199, 6000)"
            ]
          },
          "metadata": {},
          "execution_count": 31
        }
      ]
    },
    {
      "cell_type": "code",
      "source": [
        "kmeans = KMeans(n_clusters=2,max_iter=4000,algorithm=\"auto\").fit(tfidf)"
      ],
      "metadata": {
        "id": "VT1Gz5MAbe9q"
      },
      "execution_count": null,
      "outputs": []
    },
    {
      "cell_type": "code",
      "execution_count": null,
      "metadata": {
        "colab": {
          "base_uri": "https://localhost:8080/"
        },
        "id": "mp1LQ9btgEnm",
        "outputId": "c0dc8fc8-ee8f-43e9-b87b-c4bd53018d45"
      },
      "outputs": [
        {
          "output_type": "stream",
          "name": "stdout",
          "text": [
            "              precision    recall  f1-score   support\n",
            "\n",
            "           0       0.53      0.88      0.66    409488\n",
            "           1       0.64      0.22      0.33    409711\n",
            "\n",
            "    accuracy                           0.55    819199\n",
            "   macro avg       0.59      0.55      0.50    819199\n",
            "weighted avg       0.59      0.55      0.50    819199\n",
            "\n"
          ]
        }
      ],
      "source": [
        "prediction=kmeans.predict(tfidf_vectorizer.transform(x_train.text))\n",
        "score = classification_report(y_train, prediction)\n",
        "print(score)"
      ]
    },
    {
      "cell_type": "code",
      "execution_count": null,
      "metadata": {
        "colab": {
          "base_uri": "https://localhost:8080/"
        },
        "id": "kUcPjq1e8zF9",
        "outputId": "4fbf4aec-e9b6-44c9-fddd-1a716a4df495"
      },
      "outputs": [
        {
          "output_type": "stream",
          "name": "stdout",
          "text": [
            "              precision    recall  f1-score   support\n",
            "\n",
            "           0       0.53      0.88      0.66    102372\n",
            "           1       0.64      0.22      0.33    102428\n",
            "\n",
            "    accuracy                           0.55    204800\n",
            "   macro avg       0.59      0.55      0.50    204800\n",
            "weighted avg       0.59      0.55      0.50    204800\n",
            "\n"
          ]
        }
      ],
      "source": [
        "prediction=kmeans.predict(tfidf_vectorizer.transform(x_test.text))\n",
        "score = classification_report(y_test, prediction)\n",
        "print(score)"
      ]
    },
    {
      "cell_type": "code",
      "source": [
        "conf_matrix=confusion_matrix(y_test, prediction)\n",
        "fig, ax = plt.subplots(figsize=(4, 3))\n",
        "ax.matshow(conf_matrix, cmap=plt.cm.tab20c)\n",
        "for i in range(conf_matrix.shape[0]):\n",
        "    for j in range(conf_matrix.shape[1]):\n",
        "        ax.text(x=j, y=i,s=conf_matrix[i, j], va='center', ha='center', size='xx-large')"
      ],
      "metadata": {
        "colab": {
          "base_uri": "https://localhost:8080/",
          "height": 214
        },
        "id": "6pE0_YHvgdfy",
        "outputId": "4e37e8a4-1aa8-49af-a24b-de5484804a89"
      },
      "execution_count": null,
      "outputs": [
        {
          "output_type": "display_data",
          "data": {
            "text/plain": [
              "<Figure size 288x216 with 1 Axes>"
            ],
            "image/png": "[encoded data removed]"
          },
          "metadata": {
            "needs_background": "light"
          }
        }
      ]
    },
    {
      "cell_type": "markdown",
      "metadata": {
        "id": "MBUMw9w4-aub"
      },
      "source": [
        "# 4-Test data Section\n"
      ]
    },
    {
      "cell_type": "code",
      "execution_count": null,
      "metadata": {
        "id": "iktAAD8SIL3H"
      },
      "outputs": [],
      "source": [
        "test.text=data.text.apply(lambda x: clean_text(x))\n",
        "mtest = tfidf_vectorizer.transform(test.text)"
      ]
    },
    {
      "cell_type": "code",
      "execution_count": null,
      "metadata": {
        "id": "TaB0WXJ-G8YH"
      },
      "outputs": [],
      "source": [
        "predicted =kmeans.predict(mtest)\n",
        "final_pred = pd.DataFrame()\n",
        "final_pred[\"id\"] = ID_test\n",
        "final_pred[\"target\"] = predicted"
      ]
    },
    {
      "cell_type": "code",
      "execution_count": null,
      "metadata": {
        "id": "zQIBwAeEmBHZ"
      },
      "outputs": [],
      "source": [
        "final_pred.target.value_counts()"
      ]
    },
    {
      "cell_type": "code",
      "execution_count": null,
      "metadata": {
        "id": "OfxwCsurHs9i"
      },
      "outputs": [],
      "source": [
        "final_pred.to_csv('submission.csv', index=False)"
      ]
    },
    {
      "cell_type": "markdown",
      "metadata": {
        "id": "Q01Odi4h-auf"
      },
      "source": [
        "# Finally! 😎"
      ]
    }
  ],
  "metadata": {
    "colab": {
      "collapsed_sections": [
        "RiR24IgvImk3",
        "QIUlS4D6-at6",
        "GHjgSHp-8EhM",
        "VDwKervo7txD",
        "zcGTiQ-EQ5MK",
        "8iCGUFYHnIhw",
        "9mkY_nl8-aue",
        "XR2BjKe3QNkA"
      ],
      "provenance": []
    },
    "gpuClass": "standard",
    "kernelspec": {
      "display_name": "Python 3",
      "language": "python",
      "name": "python3"
    },
    "language_info": {
      "codemirror_mode": {
        "name": "ipython",
        "version": 3
      },
      "file_extension": ".py",
      "mimetype": "text/x-python",
      "name": "python",
      "nbconvert_exporter": "python",
      "pygments_lexer": "ipython3",
      "version": "3.8.8"
    }
  },
  "nbformat": 4,
  "nbformat_minor": 0
}